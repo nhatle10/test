{
 "cells": [
  {
   "cell_type": "code",
   "execution_count": 11,
   "id": "cbbe42f3",
   "metadata": {},
   "outputs": [],
   "source": [
    "import numpy as np\n",
    "import pandas as pd\n",
    "import matplotlib.pyplot as plt \n",
    "import seaborn as sns\n",
    "\n",
    "from sklearn.impute import SimpleImputer, KNNImputer\n",
    "from sklearn.preprocessing import OneHotEncoder\n",
    "from sklearn.compose import ColumnTransformer\n",
    "from sklearn.pipeline import Pipeline"
   ]
  },
  {
   "cell_type": "code",
   "execution_count": 12,
   "id": "3f1ac533",
   "metadata": {},
   "outputs": [],
   "source": [
    "train_path = r\"D:\\tune\\train_data\\train.json\"\n",
    "df = pd.read_json(train_path, lines=True)"
   ]
  },
  {
   "cell_type": "code",
   "execution_count": 13,
   "id": "c9a910af",
   "metadata": {},
   "outputs": [],
   "source": [
    "def categorize_age(age):\n",
    "    if pd.isna(age):\n",
    "        return np.nan\n",
    "    elif age < 25:\n",
    "        return 'Less than 25'\n",
    "    elif age <= 45:\n",
    "        return '25 - 45'\n",
    "    else:\n",
    "        return 'Greater than 45'\n",
    "\n",
    "df['age_cat'] = df['age'].apply(categorize_age)\n",
    "df.drop(columns=['age'], inplace=True)"
   ]
  },
  {
   "cell_type": "code",
   "execution_count": 14,
   "id": "46f9a4bc",
   "metadata": {},
   "outputs": [],
   "source": [
    "X = df.drop('two_year_recid', axis=1)\n",
    "y = df['two_year_recid']\n",
    "\n",
    "# Identify categorical and numerical columns\n",
    "cat_features = X.select_dtypes(include=['object', 'category']).columns.tolist()\n",
    "num_features = X.select_dtypes(include=[np.number]).columns.tolist()\n",
    "\n",
    "# Preprocessing pipeline\n",
    "preprocessor = ColumnTransformer(\n",
    "    transformers=[\n",
    "        ('num', SimpleImputer(strategy='mean'), num_features),\n",
    "        ('cat', Pipeline([\n",
    "            ('encoder', OneHotEncoder(handle_unknown='ignore', sparse_output=False)),\n",
    "            ('imputer', SimpleImputer(strategy='most_frequent'))\n",
    "        ]), cat_features)\n",
    "    ]\n",
    ")"
   ]
  },
  {
   "cell_type": "code",
   "execution_count": 15,
   "id": "34a35466",
   "metadata": {},
   "outputs": [],
   "source": [
    "X_processed = preprocessor.fit_transform(X)"
   ]
  },
  {
   "cell_type": "code",
   "execution_count": 10,
   "id": "8a5d96af",
   "metadata": {},
   "outputs": [
    {
     "name": "stdout",
     "output_type": "stream",
     "text": [
      "         age  juv_fel_count  juv_misd_count  juv_other_count  priors_count  \\\n",
      "0  34.609719       0.067195        0.000000         0.104943      0.000000   \n",
      "1  25.000000       2.000000        3.000000         0.104943      8.000000   \n",
      "2  42.000000       0.000000        0.000000         0.000000      0.000000   \n",
      "3  24.000000       0.000000        0.072434         0.000000      3.403398   \n",
      "4  31.000000       0.000000        1.000000         0.000000      3.000000   \n",
      "5  34.609719       0.000000        0.000000         0.104943      4.000000   \n",
      "6  71.000000       0.000000        0.000000         0.104943     12.000000   \n",
      "7  66.000000       0.000000        0.000000         0.000000      3.403398   \n",
      "8  27.000000       0.000000        0.000000         0.000000      6.000000   \n",
      "9  29.000000       0.000000        0.000000         0.000000      1.000000   \n",
      "\n",
      "   sex_Female  sex_Male  sex_None  race_African-American  race_Asian  \\\n",
      "0         0.0       1.0       0.0                    0.0         0.0   \n",
      "1         0.0       1.0       0.0                    1.0         0.0   \n",
      "2         0.0       0.0       1.0                    1.0         0.0   \n",
      "3         0.0       1.0       0.0                    1.0         0.0   \n",
      "4         0.0       0.0       1.0                    0.0         0.0   \n",
      "5         0.0       0.0       1.0                    0.0         0.0   \n",
      "6         0.0       0.0       1.0                    1.0         0.0   \n",
      "7         0.0       1.0       0.0                    0.0         0.0   \n",
      "8         0.0       0.0       1.0                    0.0         0.0   \n",
      "9         0.0       0.0       1.0                    1.0         0.0   \n",
      "\n",
      "   race_Caucasian  race_Hispanic  race_Native American  race_Other  race_None  \\\n",
      "0             1.0            0.0                   0.0         0.0        0.0   \n",
      "1             0.0            0.0                   0.0         0.0        0.0   \n",
      "2             0.0            0.0                   0.0         0.0        0.0   \n",
      "3             0.0            0.0                   0.0         0.0        0.0   \n",
      "4             0.0            0.0                   0.0         0.0        1.0   \n",
      "5             0.0            0.0                   0.0         0.0        1.0   \n",
      "6             0.0            0.0                   0.0         0.0        0.0   \n",
      "7             1.0            0.0                   0.0         0.0        0.0   \n",
      "8             0.0            0.0                   0.0         0.0        1.0   \n",
      "9             0.0            0.0                   0.0         0.0        0.0   \n",
      "\n",
      "   c_charge_degree_F  c_charge_degree_M  c_charge_degree_None  \n",
      "0                0.0                0.0                   1.0  \n",
      "1                1.0                0.0                   0.0  \n",
      "2                0.0                1.0                   0.0  \n",
      "3                0.0                1.0                   0.0  \n",
      "4                1.0                0.0                   0.0  \n",
      "5                0.0                0.0                   1.0  \n",
      "6                0.0                1.0                   0.0  \n",
      "7                0.0                1.0                   0.0  \n",
      "8                1.0                0.0                   0.0  \n",
      "9                0.0                0.0                   1.0  \n"
     ]
    }
   ],
   "source": [
    "# Lấy tên cột cho dữ liệu đã encode\n",
    "cat_encoded_columns = preprocessor.named_transformers_['cat']['encoder'].get_feature_names_out(cat_features)\n",
    "\n",
    "# Kết hợp tên cột số và cột phân loại đã encode\n",
    "processed_columns = num_features + cat_encoded_columns.tolist()\n",
    "\n",
    "# Tạo DataFrame mới\n",
    "X_processed_df = pd.DataFrame(X_processed, columns=processed_columns)\n",
    "\n",
    "# Hiển thị DataFrame\n",
    "print(X_processed_df.head(10))"
   ]
  }
 ],
 "metadata": {
  "kernelspec": {
   "display_name": "venv",
   "language": "python",
   "name": "python3"
  },
  "language_info": {
   "codemirror_mode": {
    "name": "ipython",
    "version": 3
   },
   "file_extension": ".py",
   "mimetype": "text/x-python",
   "name": "python",
   "nbconvert_exporter": "python",
   "pygments_lexer": "ipython3",
   "version": "3.10.0"
  }
 },
 "nbformat": 4,
 "nbformat_minor": 5
}
